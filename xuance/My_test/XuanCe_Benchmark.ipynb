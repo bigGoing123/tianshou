{
 "cells": [
  {
   "cell_type": "code",
   "execution_count": 8,
   "id": "initial_id",
   "metadata": {
    "collapsed": true,
    "ExecuteTime": {
     "end_time": "2024-03-11T08:12:03.797605700Z",
     "start_time": "2024-03-11T08:12:03.794605800Z"
    }
   },
   "outputs": [],
   "source": [
    "import argparse\n",
    "\n",
    "def parse_args():\n",
    "    parser = argparse.ArgumentParser(\"Example of XuanCe.\")\n",
    "    parser.add_argument(\"--method\", type=str, default=\"ppo\")\n",
    "    parser.add_argument(\"--env\", type=str, default=\"classic_control\")\n",
    "    parser.add_argument(\"--env-id\", type=str, default=\"Pendulum-v1\")\n",
    "    parser.add_argument(\"--test\", type=int, default=0)\n",
    "    parser.add_argument(\"--device\", type=str, default=\"cuda:0\")\n",
    "    parser.add_argument(\"--benchmark\", type=int, default=1)\n",
    "    parser.add_argument(\"--config\", type=str, default=\"configs\\\\basic.yaml\")\n",
    "\n",
    "    return parser.parse_known_args()[0]"
   ]
  },
  {
   "cell_type": "code",
   "execution_count": 9,
   "outputs": [],
   "source": [
    "import os\n",
    "from copy import deepcopy\n",
    "import numpy as np\n",
    "import torch.optim\n",
    "from xuance.common import space2shape\n",
    "from xuance.environment import make_envs\n",
    "from xuance.torch.utils.operations import set_seed\n",
    "from xuance.torch.utils import ActivationFunctions\n",
    "def run(args):\n",
    "    agent_name = args.agent  # 获取智能体名称\n",
    "    set_seed(args.seed)  # 设置随机种子\n",
    "\n",
    "    # prepare directories for results\n",
    "    args.model_dir = os.path.join(os.getcwd(), args.model_dir, args.env_id)  # 模型存储/读取路径\n",
    "    args.log_dir = os.path.join(args.log_dir, args.env_id)  # 日志文件存储路径\n",
    "\n",
    "    # build environments\n",
    "    envs = make_envs(args)  # 创建强化学习环境\n",
    "    args.observation_space = envs.observation_space  # 获取观测空间\n",
    "    args.action_space = envs.action_space  # 获取动作空间\n",
    "    n_envs = envs.num_envs  # 获取并行环境个数\n",
    "\n",
    "    # prepare representation\n",
    "    from xuance.torch.representations import Basic_MLP  # 导入表征器类\n",
    "    representation = Basic_MLP(input_shape=space2shape(args.observation_space),\n",
    "                            hidden_sizes=args.representation_hidden_size,\n",
    "                            normalize=None,\n",
    "                            initialize=torch.nn.init.orthogonal_,\n",
    "                            activation=ActivationFunctions[args.activation],\n",
    "                            device=args.device)  # 创建MLP表征器\n",
    "\n",
    "    # prepare policy\n",
    "    from xuance.torch.policies import Gaussian_AC_Policy  # 导入策略类\n",
    "    policy = Gaussian_AC_Policy(action_space=args.action_space,\n",
    "                                representation=representation,\n",
    "                                actor_hidden_size=args.actor_hidden_size,\n",
    "                                critic_hidden_size=args.critic_hidden_size,\n",
    "                                normalize=None,\n",
    "                                initialize=torch.nn.init.orthogonal_,\n",
    "                                activation=ActivationFunctions[args.activation],\n",
    "                                device=args.device)  # 创建服从高斯分布的随机策略\n",
    "\n",
    "    # prepare agent\n",
    "    from xuance.torch.agents import PPOCLIP_Agent, get_total_iters  # 导入智能体类\n",
    "    optimizer = torch.optim.Adam(policy.parameters(), args.learning_rate, eps=1e-5)  # 创建优化器\n",
    "    lr_scheduler = torch.optim.lr_scheduler.LinearLR(optimizer, start_factor=1.0, end_factor=0.0,\n",
    "                                                    total_iters=get_total_iters(agent_name, args))  # 创建学习率衰减器\n",
    "    agent = PPOCLIP_Agent(config=args,\n",
    "                          envs=envs,\n",
    "                          policy=policy,\n",
    "                          optimizer=optimizer,\n",
    "                          scheduler=lr_scheduler,\n",
    "                          device=args.device)  # 创建PPO智能体\n",
    "\n",
    "    # start running\n",
    "    envs.reset()  # 环境初始化\n",
    "    if args.benchmark:  # run benchmark\n",
    "        def env_fn():  # 创建测试环境，用于每个阶段训练结束后，随机初始化测试环境并进行测试\n",
    "            args_test = deepcopy(args)  # 拷贝原有参数\n",
    "            args_test.parallels = args_test.test_episode  # 更改并行环境数量为测试回合数\n",
    "            return make_envs(args_test)  # 返回实例化测试环境\n",
    "\n",
    "        train_steps = args.running_steps // n_envs  # 获取智能体总的运行步数\n",
    "        eval_interval = args.eval_interval // n_envs  # 确定每轮训练步数\n",
    "        test_episode = args.test_episode  # 获取测试回合数\n",
    "        num_epoch = int(train_steps / eval_interval)  # 确定训练轮数\n",
    "\n",
    "        test_scores = agent.test(env_fn, test_episode)  # 第0步测试，得到测试结果\n",
    "        best_scores_info = {\"mean\": np.mean(test_scores),  # 平均累积回合奖励\n",
    "                            \"std\": np.std(test_scores),  # 累积回合奖励方差\n",
    "                            \"step\": agent.current_step}  # 当前步数\n",
    "        for i_epoch in range(num_epoch):  # 开始轮回训练\n",
    "            print(\"Epoch: %d/%d:\" % (i_epoch, num_epoch))  # 打印第i_epoch轮训练的基本信息\n",
    "            agent.train(eval_interval)  # 训练eval_interval步\n",
    "            test_scores = agent.test(env_fn, test_episode)  # 测试test_episode个回合\n",
    "\n",
    "            if np.mean(test_scores) > best_scores_info[\"mean\"]:  # 若当前测试结果为历史最高，则保存模型\n",
    "                best_scores_info = {\"mean\": np.mean(test_scores),\n",
    "                                    \"std\": np.std(test_scores),\n",
    "                                    \"step\": agent.current_step}\n",
    "                # save best model\n",
    "                agent.save_model(model_name=\"best_model.pth\")\n",
    "        # end benchmarking\n",
    "        print(\"Best Model Score: %.2f, std=%.2f\" % (best_scores_info[\"mean\"], best_scores_info[\"std\"]))  # 结束benchmark训练，打印最终结果\n",
    "    else:\n",
    "        if not args.test:  # train the model without testing\n",
    "            n_train_steps = args.running_steps // n_envs  # 确定总的运行步数\n",
    "            agent.train(n_train_steps)  # 直接训练模型\n",
    "            agent.save_model(\"final_train_model.pth\")  # 保存最终训练结果\n",
    "            print(\"Finish training!\")  # 结束训练\n",
    "        else:  # test a trained model\n",
    "            def env_fn():\n",
    "                args_test = deepcopy(args)\n",
    "                args_test.parallels = 1\n",
    "                return make_envs(args_test)\n",
    "\n",
    "            agent.render = True\n",
    "            agent.load_model(agent.model_dir_load, args.seed)  # 加载模型文件\n",
    "            scores = agent.test(env_fn, args.test_episode)  # 测试模型\n",
    "            print(f\"Mean Score: {np.mean(scores)}, Std: {np.std(scores)}\")\n",
    "            print(\"Finish testing.\")  # 结束测试\n",
    "\n",
    "    # the end.\n",
    "    envs.close()  # 关闭环境\n",
    "    agent.finish()  # 结束实验"
   ],
   "metadata": {
    "collapsed": false,
    "ExecuteTime": {
     "end_time": "2024-03-11T08:12:04.336178400Z",
     "start_time": "2024-03-11T08:12:04.331178100Z"
    }
   },
   "id": "df5976bbc4ae638f"
  },
  {
   "cell_type": "code",
   "execution_count": 10,
   "outputs": [
    {
     "name": "stdout",
     "output_type": "stream",
     "text": [
      "Epoch: 0/6:\n"
     ]
    },
    {
     "name": "stderr",
     "output_type": "stream",
     "text": [
      "100%|██████████| 5000/5000 [00:13<00:00, 374.72it/s]\n"
     ]
    },
    {
     "name": "stdout",
     "output_type": "stream",
     "text": [
      "Epoch: 1/6:\n"
     ]
    },
    {
     "name": "stderr",
     "output_type": "stream",
     "text": [
      "100%|██████████| 5000/5000 [00:13<00:00, 377.86it/s]\n"
     ]
    },
    {
     "name": "stdout",
     "output_type": "stream",
     "text": [
      "Epoch: 2/6:\n"
     ]
    },
    {
     "name": "stderr",
     "output_type": "stream",
     "text": [
      "100%|██████████| 5000/5000 [00:12<00:00, 389.25it/s]\n"
     ]
    },
    {
     "name": "stdout",
     "output_type": "stream",
     "text": [
      "Epoch: 3/6:\n"
     ]
    },
    {
     "name": "stderr",
     "output_type": "stream",
     "text": [
      "100%|██████████| 5000/5000 [00:13<00:00, 382.42it/s]\n"
     ]
    },
    {
     "name": "stdout",
     "output_type": "stream",
     "text": [
      "Epoch: 4/6:\n"
     ]
    },
    {
     "name": "stderr",
     "output_type": "stream",
     "text": [
      "100%|██████████| 5000/5000 [00:13<00:00, 383.91it/s]\n"
     ]
    },
    {
     "name": "stdout",
     "output_type": "stream",
     "text": [
      "Epoch: 5/6:\n"
     ]
    },
    {
     "name": "stderr",
     "output_type": "stream",
     "text": [
      "100%|██████████| 5000/5000 [00:13<00:00, 384.49it/s]\n"
     ]
    },
    {
     "name": "stdout",
     "output_type": "stream",
     "text": [
      "Best Model Score: -244.53, std=0.21\n"
     ]
    }
   ],
   "source": [
    "from xuance import get_arguments\n",
    "import torch\n",
    "if __name__ == \"__main__\":  \n",
    "    parser = parse_args()\n",
    "    args = get_arguments(method=parser.method,\n",
    "                     env=parser.env,\n",
    "                     env_id=parser.env_id,\n",
    "                     config_path=parser.config,\n",
    "                     parser_args=parser)\n",
    "    run(args)"
   ],
   "metadata": {
    "collapsed": false,
    "ExecuteTime": {
     "end_time": "2024-03-11T08:14:04.554430100Z",
     "start_time": "2024-03-11T08:12:05.189091500Z"
    }
   },
   "id": "aedf9025f784efe0"
  },
  {
   "cell_type": "code",
   "execution_count": 24,
   "outputs": [
    {
     "name": "stdout",
     "output_type": "stream",
     "text": [
      "['__abstractmethods__', '__class__', '__delattr__', '__dict__', '__dir__', '__doc__', '__eq__', '__format__', '__ge__', '__getattribute__', '__gt__', '__hash__', '__init__', '__init_subclass__', '__le__', '__lt__', '__module__', '__ne__', '__new__', '__reduce__', '__reduce_ex__', '__repr__', '__setattr__', '__sizeof__', '__slots__', '__str__', '__subclasshook__', '__weakref__', '_abc_impl', '_save_infos', '_save_obs', 'action_space', 'actions', 'buf_dones', 'buf_infos', 'buf_obs', 'buf_rews', 'buf_trunctions', 'close', 'close_extras', 'closed', 'envs', 'max_episode_length', 'num_envs', 'obs_shape', 'observation_space', 'render', 'reset', 'step', 'step_async', 'step_wait', 'waiting']\n"
     ]
    }
   ],
   "source": [
    "from xuance.environment import make_envs\n",
    "from xuance import get_arguments\n",
    "parser=parse_args()\n",
    "args = get_arguments(method=parser.method,\n",
    "                     env=parser.env,\n",
    "                     env_id=parser.env_id,\n",
    "                     config_path=parser.config,\n",
    "                     parser_args=parser)\n",
    "env=make_envs(args)\n",
    "print(dir(env))"
   ],
   "metadata": {
    "collapsed": false,
    "ExecuteTime": {
     "end_time": "2024-03-11T07:40:00.876291800Z",
     "start_time": "2024-03-11T07:40:00.276228100Z"
    }
   },
   "id": "e4a272038e7b22ec"
  },
  {
   "cell_type": "code",
   "execution_count": 42,
   "outputs": [
    {
     "data": {
      "text/plain": "'./models/maddpg/torch/simple_spread_v3\\\\seed_1_MonMar1119_50_512024\\\\final_train_model.pth'"
     },
     "execution_count": 42,
     "metadata": {},
     "output_type": "execute_result"
    }
   ],
   "source": [
    "path = \"./models/maddpg/torch/simple_spread_v3\" # 只有一个torch文件还要加上环境id\n",
    "file_names = os.listdir(path)\n",
    "for f in file_names[::-1]:\n",
    "    '''Change directory to the specified seed (if exists)'''\n",
    "    if f\"seed_1\" in f:\n",
    "        path = os.path.join(path, f)\n",
    "        break\n",
    "model_names = os.listdir(path)\n",
    "if os.path.exists(path + \"/obs_rms.npy\"):\n",
    "    model_names.remove(\"obs_rms.npy\")\n",
    "model_names.sort()\n",
    "model_path = os.path.join(path, model_names[-1])\n",
    "model_path"
   ],
   "metadata": {
    "collapsed": false,
    "ExecuteTime": {
     "end_time": "2024-03-12T02:51:42.588890900Z",
     "start_time": "2024-03-12T02:51:42.580887100Z"
    }
   },
   "id": "52aafc352f9fbd04"
  },
  {
   "cell_type": "code",
   "execution_count": 44,
   "outputs": [
    {
     "data": {
      "text/plain": "'./path/to/your/file'"
     },
     "execution_count": 44,
     "metadata": {},
     "output_type": "execute_result"
    }
   ],
   "source": [
    "import os  \n",
    "from  simple2 import function_a, function_b\n",
    "\n",
    "def function_b():  \n",
    "    # 使用os.path.abspath将相对路径转换为绝对路径  \n",
    "    absolute_path = os.path.abspath(function_a())  \n",
    "      \n",
    "    # 输出或返回绝对路径  \n",
    "    print(absolute_path)  \n",
    "  \n",
    "# 调用函数a  \n",
    "function_a()"
   ],
   "metadata": {
    "collapsed": false,
    "ExecuteTime": {
     "end_time": "2024-03-12T03:03:16.302638500Z",
     "start_time": "2024-03-12T03:03:16.291640900Z"
    }
   },
   "id": "a1ff3e75b7b35d5f"
  }
 ],
 "metadata": {
  "kernelspec": {
   "display_name": "Python 3",
   "language": "python",
   "name": "python3"
  },
  "language_info": {
   "codemirror_mode": {
    "name": "ipython",
    "version": 2
   },
   "file_extension": ".py",
   "mimetype": "text/x-python",
   "name": "python",
   "nbconvert_exporter": "python",
   "pygments_lexer": "ipython2",
   "version": "2.7.6"
  }
 },
 "nbformat": 4,
 "nbformat_minor": 5
}
