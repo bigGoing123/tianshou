{
 "cells": [
  {
   "cell_type": "code",
   "execution_count": 16,
   "id": "initial_id",
   "metadata": {
    "collapsed": true,
    "ExecuteTime": {
     "end_time": "2024-02-26T07:17:46.921339Z",
     "start_time": "2024-02-26T07:17:46.910278600Z"
    }
   },
   "outputs": [
    {
     "name": "stderr",
     "output_type": "stream",
     "text": [
      "C:\\Users\\20230921a\\.conda\\envs\\tianshou\\Lib\\site-packages\\gymnasium\\envs\\registration.py:513: DeprecationWarning: \u001B[33mWARN: The environment CartPole-v0 is out of date. You should consider upgrading to version `v1`.\u001B[0m\n",
      "  logger.deprecation(\n"
     ]
    }
   ],
   "source": [
    "import gymnasium as gym\n",
    "import tianshou as ts\n",
    "\n",
    "env = gym.make('CartPole-v0')"
   ]
  },
  {
   "cell_type": "code",
   "execution_count": 17,
   "outputs": [],
   "source": [
    "train_envs = gym.make('CartPole-v0')\n",
    "test_envs = gym.make('CartPole-v0')"
   ],
   "metadata": {
    "collapsed": false,
    "ExecuteTime": {
     "end_time": "2024-02-26T07:17:46.922351Z",
     "start_time": "2024-02-26T07:17:46.915829300Z"
    }
   },
   "id": "664dbc1187d2ab95"
  },
  {
   "cell_type": "code",
   "execution_count": 18,
   "outputs": [],
   "source": [
    "train_envs = ts.env.DummyVectorEnv([lambda: gym.make('CartPole-v0') for _ in range(10)])\n",
    "test_envs = ts.env.DummyVectorEnv([lambda: gym.make('CartPole-v0') for _ in range(100)])"
   ],
   "metadata": {
    "collapsed": false,
    "ExecuteTime": {
     "end_time": "2024-02-26T07:17:46.955545900Z",
     "start_time": "2024-02-26T07:17:46.920340200Z"
    }
   },
   "id": "947704b5776a0f2a"
  },
  {
   "cell_type": "code",
   "execution_count": 19,
   "outputs": [],
   "source": [
    "import torch, numpy as np\n",
    "from torch import nn\n",
    "\n",
    "class Net(nn.Module):\n",
    "    def __init__(self, state_shape, action_shape):\n",
    "        super().__init__()\n",
    "        self.model = nn.Sequential(\n",
    "            nn.Linear(np.prod(state_shape), 128), nn.ReLU(inplace=True),\n",
    "            nn.Linear(128, 128), nn.ReLU(inplace=True),\n",
    "            nn.Linear(128, 128), nn.ReLU(inplace=True),\n",
    "            nn.Linear(128, np.prod(action_shape)),\n",
    "        )\n",
    "\n",
    "    def forward(self, obs, state=None, info={}):\n",
    "        if not isinstance(obs, torch.Tensor):\n",
    "            obs = torch.tensor(obs, dtype=torch.float)\n",
    "        batch = obs.shape[0]\n",
    "        logits = self.model(obs.view(batch, -1))\n",
    "        return logits, state\n",
    "\n",
    "state_shape = env.observation_space.shape or env.observation_space.n\n",
    "action_shape = env.action_space.shape or env.action_space.n\n",
    "net = Net(state_shape, action_shape)\n",
    "optim = torch.optim.Adam(net.parameters(), lr=1e-3)"
   ],
   "metadata": {
    "collapsed": false,
    "ExecuteTime": {
     "end_time": "2024-02-26T07:17:46.963172500Z",
     "start_time": "2024-02-26T07:17:46.958545500Z"
    }
   },
   "id": "d3f6af7554498875"
  },
  {
   "cell_type": "code",
   "execution_count": 20,
   "outputs": [],
   "source": [
    "policy = ts.policy.DQNPolicy(model=net,\n",
    "                             optim=optim, \n",
    "                             action_space=env.action_space,\n",
    "                             discount_factor=0.9, estimation_step=3, target_update_freq=320)"
   ],
   "metadata": {
    "collapsed": false,
    "ExecuteTime": {
     "end_time": "2024-02-26T07:17:46.969293800Z",
     "start_time": "2024-02-26T07:17:46.964170200Z"
    }
   },
   "id": "1eacfc224eca2f28"
  },
  {
   "cell_type": "code",
   "execution_count": 21,
   "outputs": [],
   "source": [
    "train_collector = ts.data.Collector(policy, train_envs, ts.data.VectorReplayBuffer(20000, 10), exploration_noise=True)\n",
    "test_collector = ts.data.Collector(policy, test_envs, exploration_noise=True)"
   ],
   "metadata": {
    "collapsed": false,
    "ExecuteTime": {
     "end_time": "2024-02-26T07:17:46.982108900Z",
     "start_time": "2024-02-26T07:17:46.969293800Z"
    }
   },
   "id": "16fdf1a87c2bf628"
  },
  {
   "cell_type": "code",
   "execution_count": 27,
   "outputs": [
    {
     "name": "stderr",
     "output_type": "stream",
     "text": [
      "Epoch #1:  24%|##4       | 2430/10000 [00:08<00:27, 280.36it/s, env_step=2430, len=200, n/ep=1, n/st=10, rew=200.00]                   \n"
     ]
    }
   ],
   "source": [
    "result = ts.trainer.OffpolicyTrainer(\n",
    "    policy=policy,\n",
    "    train_collector=train_collector,\n",
    "    test_collector=test_collector,\n",
    "    max_epoch=10, step_per_epoch=10000, step_per_collect=10,\n",
    "    update_per_step=0.1, episode_per_test=100, batch_size=64,\n",
    "    train_fn=lambda epoch, env_step: policy.set_eps(0.1),\n",
    "    test_fn=lambda epoch, env_step: policy.set_eps(0.05),\n",
    "    stop_fn=lambda mean_rewards: mean_rewards >= env.spec.reward_threshold).run()\n"
   ],
   "metadata": {
    "collapsed": false,
    "ExecuteTime": {
     "end_time": "2024-02-26T07:20:12.904162800Z",
     "start_time": "2024-02-26T07:20:03.105040200Z"
    }
   },
   "id": "4a05f0a1e5b9ced"
  },
  {
   "cell_type": "code",
   "execution_count": 26,
   "outputs": [],
   "source": [
    "from torch.utils.tensorboard import SummaryWriter\n",
    "from tianshou.utils import TensorboardLogger\n",
    "writer = SummaryWriter('log/dqn')\n",
    "logger = TensorboardLogger(writer)"
   ],
   "metadata": {
    "collapsed": false,
    "ExecuteTime": {
     "end_time": "2024-02-26T07:19:04.874439300Z",
     "start_time": "2024-02-26T07:19:04.871915800Z"
    }
   },
   "id": "10694d608a50d658"
  },
  {
   "cell_type": "code",
   "execution_count": 31,
   "outputs": [
    {
     "data": {
      "text/plain": "TimingStats(total_time=9.797119855880737, train_time=1.3845407962799072, train_time_collect=0.3725924491882324, train_time_update=0.7919645309448242, test_time=8.41257905960083, update_speed=1755.0945458083393)"
     },
     "execution_count": 31,
     "metadata": {},
     "output_type": "execute_result"
    }
   ],
   "source": [
    "result.timing"
   ],
   "metadata": {
    "collapsed": false,
    "ExecuteTime": {
     "end_time": "2024-02-26T07:24:22.391026500Z",
     "start_time": "2024-02-26T07:24:22.384022600Z"
    }
   },
   "id": "d7ecdba1f8696b35"
  },
  {
   "cell_type": "code",
   "execution_count": 32,
   "outputs": [
    {
     "data": {
      "text/plain": "(array([-0.00965831,  0.02123608, -0.03720427, -0.02112211], dtype=float32),\n {})"
     },
     "execution_count": 32,
     "metadata": {},
     "output_type": "execute_result"
    }
   ],
   "source": [
    "obs, done = env.reset(), False\n",
    "obs "
   ],
   "metadata": {
    "collapsed": false,
    "ExecuteTime": {
     "end_time": "2024-02-26T07:32:28.217041400Z",
     "start_time": "2024-02-26T07:32:28.209164900Z"
    }
   },
   "id": "540a08580d214ca3"
  },
  {
   "cell_type": "code",
   "execution_count": 33,
   "outputs": [
    {
     "name": "stdout",
     "output_type": "stream",
     "text": [
      "Batch(\n",
      "    a: array(4),\n",
      "    b: array([3, 4, 5]),\n",
      "    c: '2312312',\n",
      ")\n",
      "Batch(\n",
      "    b: array(['hello', 'world'], dtype=object),\n",
      "    a: array([0., 1.]),\n",
      ")\n"
     ]
    }
   ],
   "source": [
    "from tianshou.data import Batch\n",
    "data = Batch({'a': 4, 'b': [5, 5], 'c': '2312312'})\n",
    "# the list will automatically be converted to numpy array\n",
    "data.b\n",
    "\n",
    "data.b = np.array([3, 4, 5])\n",
    "print(data)\n",
    "\n",
    "\n",
    "\n",
    "\n",
    "\n",
    "# a list of dict objects (possibly nested) will be automatically stacked\n",
    "data = Batch([{'a': 0.0, 'b': \"hello\"}, {'a': 1.0, 'b': \"world\"}])\n",
    "print(data)"
   ],
   "metadata": {
    "collapsed": false,
    "ExecuteTime": {
     "end_time": "2024-02-26T08:53:22.433304200Z",
     "start_time": "2024-02-26T08:53:22.426305Z"
    }
   },
   "id": "cd5ead27fe31a270"
  },
  {
   "cell_type": "code",
   "execution_count": 34,
   "outputs": [
    {
     "data": {
      "text/plain": "Batch(\n    a: array([[0., 3.],\n              [1., 4.]]),\n    b: array([[ 5, -4],\n              [ 1, -1]]),\n)"
     },
     "execution_count": 34,
     "metadata": {},
     "output_type": "execute_result"
    }
   ],
   "source": [
    "data = Batch(a=np.array([[0.0, 2.0], [1.0, 3.0]]), b=[[5, -5], [1, -2]])\n",
    "data[:, 1] += 1\n",
    "data"
   ],
   "metadata": {
    "collapsed": false,
    "ExecuteTime": {
     "end_time": "2024-02-26T09:15:40.955354400Z",
     "start_time": "2024-02-26T09:15:40.940839300Z"
    }
   },
   "id": "e5aaad7615c711c5"
  },
  {
   "cell_type": "code",
   "execution_count": 36,
   "outputs": [
    {
     "data": {
      "text/plain": "Batch(\n    b: array([ 5, -5]),\n    a: array([[0., 2.],\n              [1., 3.]]),\n)"
     },
     "execution_count": 36,
     "metadata": {},
     "output_type": "execute_result"
    }
   ],
   "source": [
    "data_1 = Batch(a=np.array([0.0, 2.0]), b=5)\n",
    "data_2 = Batch(a=np.array([1.0, 3.0]), b=-5)\n",
    "data = Batch.stack((data_1, data_2))\n",
    "data"
   ],
   "metadata": {
    "collapsed": false,
    "ExecuteTime": {
     "end_time": "2024-02-26T09:20:26.315585200Z",
     "start_time": "2024-02-26T09:20:26.305204800Z"
    }
   },
   "id": "ff2fd8baa314ff57"
  },
  {
   "cell_type": "code",
   "execution_count": 37,
   "outputs": [
    {
     "ename": "TypeError",
     "evalue": "BasePolicy.__init__() missing 1 required keyword-only argument: 'action_space'",
     "output_type": "error",
     "traceback": [
      "\u001B[1;31m---------------------------------------------------------------------------\u001B[0m",
      "\u001B[1;31mTypeError\u001B[0m                                 Traceback (most recent call last)",
      "Cell \u001B[1;32mIn[37], line 15\u001B[0m\n\u001B[0;32m     12\u001B[0m env \u001B[38;5;241m=\u001B[39m PettingZooEnv(env)\n\u001B[0;32m     14\u001B[0m \u001B[38;5;66;03m# Step 3: Define policies for each agent\u001B[39;00m\n\u001B[1;32m---> 15\u001B[0m policies \u001B[38;5;241m=\u001B[39m MultiAgentPolicyManager([RandomPolicy(), RandomPolicy()], env)\n\u001B[0;32m     17\u001B[0m \u001B[38;5;66;03m# Step 4: Convert the env to vector format\u001B[39;00m\n\u001B[0;32m     18\u001B[0m env \u001B[38;5;241m=\u001B[39m DummyVectorEnv([\u001B[38;5;28;01mlambda\u001B[39;00m: env])\n",
      "\u001B[1;31mTypeError\u001B[0m: BasePolicy.__init__() missing 1 required keyword-only argument: 'action_space'"
     ]
    }
   ],
   "source": [
    "from tianshou.data import Collector\n",
    "from tianshou.env import DummyVectorEnv, PettingZooEnv\n",
    "from tianshou.policy import MultiAgentPolicyManager, RandomPolicy\n",
    "\n",
    "from pettingzoo.classic import rps_v2\n",
    "\n",
    "if __name__ == \"__main__\":\n",
    "    # Step 1: Load the PettingZoo environment\n",
    "    env = rps_v2.env(render_mode=\"human\")\n",
    "\n",
    "    # Step 2: Wrap the environment for Tianshou interfacing\n",
    "    env = PettingZooEnv(env)\n",
    "\n",
    "    # Step 3: Define policies for each agent\n",
    "    policies = MultiAgentPolicyManager([RandomPolicy(), RandomPolicy()], env)\n",
    "\n",
    "    # Step 4: Convert the env to vector format\n",
    "    env = DummyVectorEnv([lambda: env])\n",
    "\n",
    "    # Step 5: Construct the Collector, which interfaces the policies with the vectorised environment\n",
    "    collector = Collector(policies, env)\n",
    "\n",
    "    # Step 6: Execute the environment with the agents playing for 1 episode, and render a frame every 0.1 seconds\n",
    "    result = collector.collect(n_episode=1, render=0.1)"
   ],
   "metadata": {
    "collapsed": false,
    "ExecuteTime": {
     "end_time": "2024-02-26T09:29:24.962046200Z",
     "start_time": "2024-02-26T09:29:24.333869900Z"
    }
   },
   "id": "e70f02b50d9f325"
  },
  {
   "cell_type": "code",
   "execution_count": null,
   "outputs": [],
   "source": [],
   "metadata": {
    "collapsed": false
   },
   "id": "51c303a890a74ea0"
  }
 ],
 "metadata": {
  "kernelspec": {
   "display_name": "Python 3",
   "language": "python",
   "name": "python3"
  },
  "language_info": {
   "codemirror_mode": {
    "name": "ipython",
    "version": 2
   },
   "file_extension": ".py",
   "mimetype": "text/x-python",
   "name": "python",
   "nbconvert_exporter": "python",
   "pygments_lexer": "ipython2",
   "version": "2.7.6"
  }
 },
 "nbformat": 4,
 "nbformat_minor": 5
}
